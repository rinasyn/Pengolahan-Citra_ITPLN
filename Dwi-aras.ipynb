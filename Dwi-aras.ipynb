{
 "cells": [
  {
   "cell_type": "markdown",
   "id": "dce55644",
   "metadata": {},
   "source": [
    "## Pengembangan Dwi Aras"
   ]
  },
  {
   "cell_type": "code",
   "execution_count": 1,
   "id": "7d12e59a",
   "metadata": {},
   "outputs": [],
   "source": [
    "import cv2\n",
    "import numpy as np\n",
    "from matplotlib import pyplot as plt"
   ]
  },
  {
   "cell_type": "code",
   "execution_count": 2,
   "id": "84b5acf8",
   "metadata": {},
   "outputs": [],
   "source": [
    "daun=cv2.imread(\"daun.jpg\", 0)\n",
    "tinggi, lebar = daun.shape"
   ]
  },
  {
   "cell_type": "code",
   "execution_count": 3,
   "id": "f5cf8f2f",
   "metadata": {},
   "outputs": [],
   "source": [
    "cv2.imshow(\"gambar asli\", daun)\n",
    "cv2.waitKey()\n",
    "cv2.destroyAllWindows()"
   ]
  },
  {
   "cell_type": "markdown",
   "id": "ca0f4391",
   "metadata": {},
   "source": [
    "## Pengambangan Dwi Aras dengan perkiraan nilai ambang"
   ]
  },
  {
   "cell_type": "code",
   "execution_count": 4,
   "id": "76952268",
   "metadata": {},
   "outputs": [],
   "source": [
    "nilai_ambang = 128\n",
    "daun_hasil = daun.copy()\n",
    "for x in range (tinggi) :\n",
    "    for y in range(lebar):\n",
    "        if daun[x,y] < nilai_ambang :\n",
    "            daun_hasil [x,y] = 0\n",
    "        else :\n",
    "            daun_hasil[x,y] = 255"
   ]
  },
  {
   "cell_type": "code",
   "execution_count": 5,
   "id": "ddc51e73",
   "metadata": {},
   "outputs": [],
   "source": [
    "cv2.imshow(\"gambar daun_hasil\", daun_hasil)\n",
    "cv2.waitKey()\n",
    "cv2.destroyAllWindows()"
   ]
  },
  {
   "cell_type": "markdown",
   "id": "58f3490a",
   "metadata": {},
   "source": [
    "## Nilai Ambang suatu gambar"
   ]
  },
  {
   "cell_type": "code",
   "execution_count": 6,
   "id": "650d1d9c",
   "metadata": {},
   "outputs": [],
   "source": [
    "def titeratif(image) :\n",
    "    tinggi, lebar = image.shape\n",
    "    t0 = 127\n",
    "    while(True) :\n",
    "        rata_kiri = 0;\n",
    "        rata_kanan = 0;\n",
    "        jum_kiri = 0;\n",
    "        jum_kanan = 0;\n",
    "        for x in range(tinggi) :\n",
    "            for y in range(lebar) :\n",
    "                if (image[x,y] <= 127):\n",
    "                    rata_kiri = rata_kiri + image[x,y]\n",
    "                    jum_kiri = jum_kiri + 1\n",
    "                else :\n",
    "                    rata_kanan = rata_kanan + image[x,y]\n",
    "                    jum_kanan = jum_kanan + 1\n",
    "        rata_kiri = rata_kiri / jum_kiri\n",
    "        rata_kanan = rata_kanan / jum_kanan\n",
    "        t1=(rata_kiri + rata_kanan) / 2\n",
    "        if ((t0-t1) < 1) :\n",
    "            break\n",
    "        t0 = t1\n",
    "    return round (t1)"
   ]
  },
  {
   "cell_type": "code",
   "execution_count": 7,
   "id": "dc68dcbc",
   "metadata": {},
   "outputs": [
    {
     "data": {
      "text/plain": [
       "131"
      ]
     },
     "execution_count": 7,
     "metadata": {},
     "output_type": "execute_result"
    }
   ],
   "source": [
    "titeratif(daun)"
   ]
  },
  {
   "cell_type": "code",
   "execution_count": null,
   "id": "5e4447ea",
   "metadata": {},
   "outputs": [],
   "source": []
  }
 ],
 "metadata": {
  "kernelspec": {
   "display_name": "Python 3 (ipykernel)",
   "language": "python",
   "name": "python3"
  },
  "language_info": {
   "codemirror_mode": {
    "name": "ipython",
    "version": 3
   },
   "file_extension": ".py",
   "mimetype": "text/x-python",
   "name": "python",
   "nbconvert_exporter": "python",
   "pygments_lexer": "ipython3",
   "version": "3.9.13"
  }
 },
 "nbformat": 4,
 "nbformat_minor": 5
}
